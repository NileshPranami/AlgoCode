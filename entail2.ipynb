{
  "nbformat": 4,
  "nbformat_minor": 0,
  "metadata": {
    "colab": {
      "name": "Untitled1.ipynb",
      "version": "0.3.2",
      "provenance": [],
      "machine_shape": "hm",
      "include_colab_link": true
    },
    "kernelspec": {
      "name": "python3",
      "display_name": "Python 3"
    },
    "accelerator": "TPU"
  },
  "cells": [
    {
      "cell_type": "markdown",
      "metadata": {
        "id": "view-in-github",
        "colab_type": "text"
      },
      "source": [
        "<a href=\"https://colab.research.google.com/github/NileshPranami/AlgoCode/blob/master/entail2.ipynb\" target=\"_parent\"><img src=\"https://colab.research.google.com/assets/colab-badge.svg\" alt=\"Open In Colab\"/></a>"
      ]
    },
    {
      "cell_type": "code",
      "metadata": {
        "id": "UTSX599_LMFC",
        "colab_type": "code",
        "outputId": "b052deb7-6c43-4aa4-a1e3-b01e6b9f2b8e",
        "colab": {
          "base_uri": "https://localhost:8080/",
          "height": 122
        }
      },
      "source": [
        "from google.colab import drive\n",
        "drive.mount('/content/drive')"
      ],
      "execution_count": 12,
      "outputs": [
        {
          "output_type": "stream",
          "text": [
            "Go to this URL in a browser: https://accounts.google.com/o/oauth2/auth?client_id=947318989803-6bn6qk8qdgf4n4g3pfee6491hc0brc4i.apps.googleusercontent.com&redirect_uri=urn%3Aietf%3Awg%3Aoauth%3A2.0%3Aoob&scope=email%20https%3A%2F%2Fwww.googleapis.com%2Fauth%2Fdocs.test%20https%3A%2F%2Fwww.googleapis.com%2Fauth%2Fdrive%20https%3A%2F%2Fwww.googleapis.com%2Fauth%2Fdrive.photos.readonly%20https%3A%2F%2Fwww.googleapis.com%2Fauth%2Fpeopleapi.readonly&response_type=code\n",
            "\n",
            "Enter your authorization code:\n",
            "··········\n",
            "Mounted at /content/drive\n"
          ],
          "name": "stdout"
        }
      ]
    },
    {
      "cell_type": "code",
      "metadata": {
        "id": "mnF6NyVDxfH9",
        "colab_type": "code",
        "outputId": "95a587a0-babe-4738-8618-5540254e12f3",
        "colab": {
          "base_uri": "https://localhost:8080/",
          "height": 34
        }
      },
      "source": [
        "cd drive/My\\ Drive/Entailment1/Data"
      ],
      "execution_count": 13,
      "outputs": [
        {
          "output_type": "stream",
          "text": [
            "/content/drive/My Drive/Entailment1/Data\n"
          ],
          "name": "stdout"
        }
      ]
    },
    {
      "cell_type": "code",
      "metadata": {
        "id": "qjVBbHopLazS",
        "colab_type": "code",
        "colab": {}
      },
      "source": [
        "\n",
        "glove_zip_file = \"glove.6B.zip\"\n",
        "glove_vectors_file = \"glove.6B.50d.txt\"\n",
        "\n",
        "snli_zip_file = \"snli_1.0.zip\"\n",
        "snli_dev_file = \"snli_1.0_dev.txt\"\n",
        "snli_full_dataset_file = \"snli_1.0_train.txt\""
      ],
      "execution_count": 0,
      "outputs": []
    },
    {
      "cell_type": "code",
      "metadata": {
        "id": "23g2MXWaLrDK",
        "colab_type": "code",
        "outputId": "c1f2b359-fc12-4a0d-8576-c124a691ccaa",
        "colab": {
          "base_uri": "https://localhost:8080/",
          "height": 34
        }
      },
      "source": [
        "!pwd"
      ],
      "execution_count": 15,
      "outputs": [
        {
          "output_type": "stream",
          "text": [
            "/content/drive/My Drive/Entailment1/Data\n"
          ],
          "name": "stdout"
        }
      ]
    },
    {
      "cell_type": "code",
      "metadata": {
        "id": "eQnrCIN74N0e",
        "colab_type": "code",
        "colab": {}
      },
      "source": [
        "%matplotlib inline\n",
        "import tensorflow as tf\n",
        "import numpy as np\n",
        "import matplotlib.pyplot as plt\n",
        "import matplotlib.ticker as ticker\n",
        "import urllib\n",
        "import sys\n",
        "import os\n",
        "import zipfile"
      ],
      "execution_count": 0,
      "outputs": []
    },
    {
      "cell_type": "code",
      "metadata": {
        "id": "RvTBMSYsNQMK",
        "colab_type": "code",
        "colab": {}
      },
      "source": [
        "\n",
        "glove_wordmap={}\n",
        "with open(glove_vectors_file,\"r\")as glove:\n",
        "  for line in glove:\n",
        "    name,vector=tuple(line.split(\" \",1))\n",
        "    glove_wordmap[name]=np.fromstring(vector, sep=\" \")"
      ],
      "execution_count": 0,
      "outputs": []
    },
    {
      "cell_type": "code",
      "metadata": {
        "id": "XPBedvnGNWh7",
        "colab_type": "code",
        "colab": {}
      },
      "source": [
        "def sentence2sequence(sentence):\n",
        "  tokens = sentence.lower().split(\" \")\n",
        "  rows= []\n",
        "  words= []\n",
        "  for token in tokens:\n",
        "    i = len(token)\n",
        "    while len(token)>0 and i>0:\n",
        "      word=token[:i]\n",
        "      if word in glove_wordmap:\n",
        "        rows.append(glove_wordmap[word])\n",
        "        words.append(word)\n",
        "        token = token[i:]\n",
        "        i=len(token)\n",
        "      else:\n",
        "        i = i-1\n",
        "  return rows, words\n",
        "        \n",
        "        "
      ],
      "execution_count": 0,
      "outputs": []
    },
    {
      "cell_type": "code",
      "metadata": {
        "id": "KNN_IaJzNXwx",
        "colab_type": "code",
        "outputId": "93547411-b0c7-4e88-936e-7259833b027b",
        "colab": {
          "base_uri": "https://localhost:8080/",
          "height": 521
        }
      },
      "source": [
        "def visualize(sentence):\n",
        "    rows, words = sentence2sequence(sentence)\n",
        "    mat = np.vstack(rows)\n",
        "    \n",
        "    fig = plt.figure()\n",
        "    ax = fig.add_subplot(111)\n",
        "    shown = ax.matshow(mat, aspect=\"auto\")\n",
        "    ax.yaxis.set_major_locator(ticker.MultipleLocator(1))\n",
        "    fig.colorbar(shown)\n",
        "    \n",
        "    ax.set_yticklabels([\"\"]+words)\n",
        "    plt.show()\n",
        "    \n",
        "visualize(\"The quick brown fox jumped over the lazy dog.\")\n",
        "visualize(\"The pretty flowers shone in the sunlight.\")"
      ],
      "execution_count": 19,
      "outputs": [
        {
          "output_type": "display_data",
          "data": {
            "image/png": "[encoded data removed]",
            "text/plain": [
              "<Figure size 432x288 with 2 Axes>"
            ]
          },
          "metadata": {
            "tags": []
          }
        },
        {
          "output_type": "display_data",
          "data": {
            "image/png": "[encoded data removed]",
            "text/plain": [
              "<Figure size 432x288 with 2 Axes>"
            ]
          },
          "metadata": {
            "tags": []
          }
        }
      ]
    },
    {
      "cell_type": "code",
      "metadata": {
        "id": "Kzp8bLzKNhyF",
        "colab_type": "code",
        "outputId": "07cf5abb-ac9f-4c50-89db-32e66a6f8ed6",
        "colab": {
          "base_uri": "https://localhost:8080/",
          "height": 241
        }
      },
      "source": [
        "rnn_size = 64\n",
        "rnn = tf.contrib.rnn.BasicRNNCell(rnn_size)"
      ],
      "execution_count": 20,
      "outputs": [
        {
          "output_type": "stream",
          "text": [
            "WARNING: Logging before flag parsing goes to stderr.\n",
            "W0820 05:31:59.325688 139806498416512 lazy_loader.py:50] \n",
            "The TensorFlow contrib module will not be included in TensorFlow 2.0.\n",
            "For more information, please see:\n",
            "  * https://github.com/tensorflow/community/blob/master/rfcs/20180907-contrib-sunset.md\n",
            "  * https://github.com/tensorflow/addons\n",
            "  * https://github.com/tensorflow/io (for I/O related ops)\n",
            "If you depend on functionality not listed there, please file an issue.\n",
            "\n",
            "W0820 05:31:59.327502 139806498416512 deprecation.py:323] From <ipython-input-20-33127d7a5f16>:2: BasicRNNCell.__init__ (from tensorflow.python.ops.rnn_cell_impl) is deprecated and will be removed in a future version.\n",
            "Instructions for updating:\n",
            "This class is equivalent as tf.keras.layers.SimpleRNNCell, and will be replaced by that in Tensorflow 2.0.\n"
          ],
          "name": "stderr"
        }
      ]
    },
    {
      "cell_type": "code",
      "metadata": {
        "id": "676vE9fqNjk0",
        "colab_type": "code",
        "colab": {}
      },
      "source": [
        "max_hypothesis_length, max_evidence_length = 30, 30\n",
        "batch_size, vector_size, hidden_size = 128, 50, 64\n",
        "\n",
        "lstm_size = hidden_size\n",
        "\n",
        "weight_decay = 0.0001\n",
        "\n",
        "learning_rate = 1\n",
        "\n",
        "input_p, output_p = 0.5, 0.5\n",
        "\n",
        "training_iterations_count = 100000\n",
        "\n",
        "display_step = 10\n",
        "\n",
        "def score_setup(row):\n",
        "    convert_dict = {\n",
        "      'entailment': 0,\n",
        "      'neutral': 1,\n",
        "      'contradiction': 2\n",
        "    }\n",
        "    score = np.zeros((3,))\n",
        "    for x in range(1,6):\n",
        "        tag = row[\"label\"+str(x)]\n",
        "        if tag in convert_dict: score[convert_dict[tag]] += 1\n",
        "    return score / (1.0*np.sum(score))\n",
        "\n",
        "def fit_to_size(matrix, shape):\n",
        "    res = np.zeros(shape)\n",
        "    slices = [slice(0,min(dim,shape[e])) for e, dim in enumerate(matrix.shape)]\n",
        "    res[slices] = matrix[slices]\n",
        "    return res"
      ],
      "execution_count": 0,
      "outputs": []
    },
    {
      "cell_type": "code",
      "metadata": {
        "id": "6WQAf7mlNowj",
        "colab_type": "code",
        "outputId": "d1fd338d-b421-4aa6-e8f3-77ebb3f8367f",
        "colab": {
          "base_uri": "https://localhost:8080/",
          "height": 54
        }
      },
      "source": [
        "def split_data_into_scores():\n",
        "    import csv\n",
        "    with open(\"snli_1.0_train.txt\",\"r\") as data:\n",
        "        train = csv.DictReader(data, delimiter='\\t')\n",
        "        evi_sentences = []\n",
        "        hyp_sentences = []\n",
        "        labels = []\n",
        "        scores = []\n",
        "        for row in train:\n",
        "            hyp_sentences.append(np.vstack(\n",
        "                    sentence2sequence(row[\"sentence1\"].lower())[0]))\n",
        "            evi_sentences.append(np.vstack(\n",
        "                    sentence2sequence(row[\"sentence2\"].lower())[0]))\n",
        "            labels.append(row[\"gold_label\"])\n",
        "            scores.append(score_setup(row))\n",
        "        \n",
        "        hyp_sentences = np.stack([fit_to_size(x, (max_hypothesis_length, vector_size))\n",
        "                          for x in hyp_sentences])\n",
        "        evi_sentences = np.stack([fit_to_size(x, (max_evidence_length, vector_size))\n",
        "                          for x in evi_sentences])\n",
        "                                 \n",
        "        return (hyp_sentences, evi_sentences), labels, np.array(scores)\n",
        "    \n",
        "data_feature_list, correct_values, correct_scores = split_data_into_scores()\n",
        "\n",
        "l_h, l_e = max_hypothesis_length, max_evidence_length\n",
        "N, D, H = batch_size, vector_size, hidden_size\n",
        "l_seq = l_h + l_e"
      ],
      "execution_count": 22,
      "outputs": [
        {
          "output_type": "stream",
          "text": [
            "/usr/local/lib/python3.6/dist-packages/ipykernel_launcher.py:31: FutureWarning: Using a non-tuple sequence for multidimensional indexing is deprecated; use `arr[tuple(seq)]` instead of `arr[seq]`. In the future this will be interpreted as an array index, `arr[np.array(seq)]`, which will result either in an error or a different result.\n"
          ],
          "name": "stderr"
        }
      ]
    },
    {
      "cell_type": "code",
      "metadata": {
        "id": "Og1v-zO5N106",
        "colab_type": "code",
        "colab": {}
      },
      "source": [
        "tf.reset_default_graph()"
      ],
      "execution_count": 0,
      "outputs": []
    },
    {
      "cell_type": "code",
      "metadata": {
        "id": "IzDjEvTeOmfA",
        "colab_type": "code",
        "outputId": "a0696521-ac41-4460-ade9-25d91f20f40e",
        "colab": {
          "base_uri": "https://localhost:8080/",
          "height": 88
        }
      },
      "source": [
        "lstm = tf.contrib.rnn.BasicLSTMCell(lstm_size)"
      ],
      "execution_count": 24,
      "outputs": [
        {
          "output_type": "stream",
          "text": [
            "W0820 05:33:46.356750 139806498416512 deprecation.py:323] From <ipython-input-24-9e22ebd21dd7>:1: BasicLSTMCell.__init__ (from tensorflow.python.ops.rnn_cell_impl) is deprecated and will be removed in a future version.\n",
            "Instructions for updating:\n",
            "This class is equivalent as tf.keras.layers.LSTMCell, and will be replaced by that in Tensorflow 2.0.\n"
          ],
          "name": "stderr"
        }
      ]
    },
    {
      "cell_type": "code",
      "metadata": {
        "id": "AwlOo7IZOoF8",
        "colab_type": "code",
        "colab": {}
      },
      "source": [
        "lstm_drop =  tf.contrib.rnn.DropoutWrapper(lstm, input_p, output_p)"
      ],
      "execution_count": 0,
      "outputs": []
    },
    {
      "cell_type": "code",
      "metadata": {
        "id": "0DPbtUhQ1MV8",
        "colab_type": "code",
        "outputId": "695f46a6-c43c-4ff8-941e-1b08158b8575",
        "colab": {
          "base_uri": "https://localhost:8080/",
          "height": 241
        }
      },
      "source": [
        "hyp = tf.placeholder(tf.float32, [N, l_h, D], 'hypothesis')\n",
        "evi = tf.placeholder(tf.float32, [N, l_e, D], 'evidence')\n",
        "y = tf.placeholder(tf.float32, [N, 3], 'label')\n",
        "\n",
        "\n",
        "lstm_back = tf.contrib.rnn.BasicLSTMCell(lstm_size)\n",
        "\n",
        "lstm_drop_back = tf.contrib.rnn.DropoutWrapper(lstm_back, input_p, output_p)\n",
        "\n",
        "fc_initializer = tf.random_normal_initializer(stddev=0.1)\n",
        "\n",
        "fc_weight = tf.get_variable('fc_weight', [2*hidden_size, 3], \n",
        "                            initializer = fc_initializer)\n",
        "\n",
        "fc_bias = tf.get_variable('bias', [3])\n",
        "\n",
        "tf.add_to_collection(tf.GraphKeys.REGULARIZATION_LOSSES, \n",
        "                     tf.nn.l2_loss(fc_weight)) \n",
        "\n",
        "x = tf.concat([hyp, evi], 1)\n",
        "\n",
        "x = tf.transpose(x, [1, 0, 2]) \n",
        "\n",
        "x = tf.reshape(x, [-1, vector_size]) \n",
        "\n",
        "x = tf.split(x, l_seq,)\n",
        "\n",
        "rnn_outputs, _, _ = tf.contrib.rnn.static_bidirectional_rnn(lstm, lstm_back,\n",
        "                                                            x, dtype=tf.float32)\n",
        "\n",
        "classification_scores = tf.matmul(rnn_outputs[-1], fc_weight) + fc_bias"
      ],
      "execution_count": 26,
      "outputs": [
        {
          "output_type": "stream",
          "text": [
            "W0820 05:33:46.479149 139806498416512 deprecation.py:506] From /usr/local/lib/python3.6/dist-packages/tensorflow/python/ops/init_ops.py:1251: calling VarianceScaling.__init__ (from tensorflow.python.ops.init_ops) with dtype is deprecated and will be removed in a future version.\n",
            "Instructions for updating:\n",
            "Call initializer instance with the dtype argument instead of passing it to the constructor\n",
            "W0820 05:33:46.499139 139806498416512 deprecation.py:323] From <ipython-input-26-e921aebe580d>:29: static_bidirectional_rnn (from tensorflow.python.ops.rnn) is deprecated and will be removed in a future version.\n",
            "Instructions for updating:\n",
            "Please use `keras.layers.Bidirectional(keras.layers.RNN(cell, unroll=True))`, which is equivalent to this API\n",
            "W0820 05:33:46.502326 139806498416512 deprecation.py:323] From /usr/local/lib/python3.6/dist-packages/tensorflow/python/ops/rnn.py:1610: static_rnn (from tensorflow.python.ops.rnn) is deprecated and will be removed in a future version.\n",
            "Instructions for updating:\n",
            "Please use `keras.layers.RNN(cell, unroll=True)`, which is equivalent to this API\n",
            "W0820 05:33:46.569215 139806498416512 deprecation.py:506] From /usr/local/lib/python3.6/dist-packages/tensorflow/python/ops/rnn_cell_impl.py:738: calling Zeros.__init__ (from tensorflow.python.ops.init_ops) with dtype is deprecated and will be removed in a future version.\n",
            "Instructions for updating:\n",
            "Call initializer instance with the dtype argument instead of passing it to the constructor\n"
          ],
          "name": "stderr"
        }
      ]
    },
    {
      "cell_type": "code",
      "metadata": {
        "id": "kzlT6qfG1utb",
        "colab_type": "code",
        "outputId": "602446fd-7806-4ef6-fa6e-b92fc670e1f1",
        "colab": {
          "base_uri": "https://localhost:8080/",
          "height": 173
        }
      },
      "source": [
        "with tf.variable_scope('Accuracy'):\n",
        "    predicts = tf.cast(tf.argmax(classification_scores, 1), 'int32')\n",
        "    y_label = tf.cast(tf.argmax(y, 1), 'int32')\n",
        "    corrects = tf.equal(predicts, y_label)\n",
        "    num_corrects = tf.reduce_sum(tf.cast(corrects, tf.float32))\n",
        "    accuracy = tf.reduce_mean(tf.cast(corrects, tf.float32))\n",
        "\n",
        "with tf.variable_scope(\"loss\"):\n",
        "    cross_entropy = tf.nn.softmax_cross_entropy_with_logits(\n",
        "        logits = classification_scores, labels = y)\n",
        "    loss = tf.reduce_mean(cross_entropy)\n",
        "    total_loss = loss + weight_decay * tf.add_n(\n",
        "        tf.get_collection(tf.GraphKeys.REGULARIZATION_LOSSES))\n",
        "\n",
        "optimizer = tf.train.GradientDescentOptimizer(learning_rate)\n",
        "\n",
        "opt_op = optimizer.minimize(total_loss)"
      ],
      "execution_count": 27,
      "outputs": [
        {
          "output_type": "stream",
          "text": [
            "W0820 05:33:49.095939 139806498416512 deprecation.py:323] From <ipython-input-27-97a0fabce845>:10: softmax_cross_entropy_with_logits (from tensorflow.python.ops.nn_ops) is deprecated and will be removed in a future version.\n",
            "Instructions for updating:\n",
            "\n",
            "Future major versions of TensorFlow will allow gradients to flow\n",
            "into the labels input on backprop by default.\n",
            "\n",
            "See `tf.nn.softmax_cross_entropy_with_logits_v2`.\n",
            "\n"
          ],
          "name": "stderr"
        }
      ]
    },
    {
      "cell_type": "code",
      "metadata": {
        "id": "0AtxnV992krg",
        "colab_type": "code",
        "outputId": "fdf06d35-8928-432d-e195-9e1488b540b6",
        "colab": {
          "base_uri": "https://localhost:8080/",
          "height": 1000
        }
      },
      "source": [
        "init = tf.global_variables_initializer()\n",
        "\n",
        "# Use TQDM if installed\n",
        "tqdm_installed = False\n",
        "try:\n",
        "    from tqdm import tqdm\n",
        "    tqdm_installed = True\n",
        "except:\n",
        "    pass\n",
        "\n",
        "# Launch the Tensorflow session\n",
        "sess = tf.Session()\n",
        "sess.run(init)\n",
        "\n",
        "training_iterations = range(0,training_iterations_count,batch_size)\n",
        "if tqdm_installed:\n",
        "    # Add a progress bar if TQDM is installed\n",
        "    training_iterations = tqdm(training_iterations)\n",
        "\n",
        "for i in training_iterations:\n",
        "\n",
        "    # Select indices for a random data subset\n",
        "    batch = np.random.randint(data_feature_list[0].shape[0], size=batch_size)\n",
        "    \n",
        "    # Use the selected subset indices to initialize the graph's \n",
        "    #   placeholder values\n",
        "    hyps, evis, ys = (data_feature_list[0][batch,:],\n",
        "                      data_feature_list[1][batch,:],\n",
        "                      correct_scores[batch])\n",
        "    \n",
        "    # Run the optimization with these initialized values\n",
        "    sess.run([opt_op], feed_dict={hyp: hyps, evi: evis, y: ys})\n",
        "    # display_step: how often the accuracy and loss should \n",
        "    #   be tested and displayed.\n",
        "    if (i/batch_size) % display_step == 0:\n",
        "        # Calculate batch accuracy\n",
        "        acc = sess.run(accuracy, feed_dict={hyp: hyps, evi: evis, y: ys})\n",
        "        # Calculate batch loss\n",
        "        tmp_loss = sess.run(loss, feed_dict={hyp: hyps, evi: evis, y: ys})\n",
        "        # Display results\n",
        "        print(\"Iter \" + str(i/batch_size) + \", Minibatch Loss= \" + \\\n",
        "              \"{:.6f}\".format(tmp_loss) + \", Training Accuracy= \" + \\\n",
        "              \"{:.5f}\".format(acc))\n",
        "\n"
      ],
      "execution_count": 32,
      "outputs": [
        {
          "output_type": "stream",
          "text": [
            "  0%|          | 3/782 [00:02<25:10,  1.94s/it]"
          ],
          "name": "stderr"
        },
        {
          "output_type": "stream",
          "text": [
            "Iter 0.0, Minibatch Loss= 1.114623, Training Accuracy= 0.28906\n"
          ],
          "name": "stdout"
        },
        {
          "output_type": "stream",
          "text": [
            "  2%|▏         | 13/782 [00:03<04:50,  2.65it/s]"
          ],
          "name": "stderr"
        },
        {
          "output_type": "stream",
          "text": [
            "Iter 10.0, Minibatch Loss= 1.096588, Training Accuracy= 0.32812\n"
          ],
          "name": "stdout"
        },
        {
          "output_type": "stream",
          "text": [
            "  3%|▎         | 23/782 [00:04<01:27,  8.65it/s]"
          ],
          "name": "stderr"
        },
        {
          "output_type": "stream",
          "text": [
            "Iter 20.0, Minibatch Loss= 1.086597, Training Accuracy= 0.39062\n"
          ],
          "name": "stdout"
        },
        {
          "output_type": "stream",
          "text": [
            "  4%|▍         | 33/782 [00:04<00:54, 13.74it/s]"
          ],
          "name": "stderr"
        },
        {
          "output_type": "stream",
          "text": [
            "Iter 30.0, Minibatch Loss= 1.096586, Training Accuracy= 0.35156\n"
          ],
          "name": "stdout"
        },
        {
          "output_type": "stream",
          "text": [
            "  5%|▌         | 43/782 [00:05<00:46, 15.89it/s]"
          ],
          "name": "stderr"
        },
        {
          "output_type": "stream",
          "text": [
            "Iter 40.0, Minibatch Loss= 1.078456, Training Accuracy= 0.35938\n"
          ],
          "name": "stdout"
        },
        {
          "output_type": "stream",
          "text": [
            "  7%|▋         | 53/782 [00:05<00:45, 16.20it/s]"
          ],
          "name": "stderr"
        },
        {
          "output_type": "stream",
          "text": [
            "Iter 50.0, Minibatch Loss= 1.087934, Training Accuracy= 0.39844\n"
          ],
          "name": "stdout"
        },
        {
          "output_type": "stream",
          "text": [
            "  8%|▊         | 63/782 [00:06<00:44, 16.12it/s]"
          ],
          "name": "stderr"
        },
        {
          "output_type": "stream",
          "text": [
            "Iter 60.0, Minibatch Loss= 1.076259, Training Accuracy= 0.42188\n"
          ],
          "name": "stdout"
        },
        {
          "output_type": "stream",
          "text": [
            "  9%|▉         | 73/782 [00:07<00:44, 15.81it/s]"
          ],
          "name": "stderr"
        },
        {
          "output_type": "stream",
          "text": [
            "Iter 70.0, Minibatch Loss= 1.091895, Training Accuracy= 0.35938\n"
          ],
          "name": "stdout"
        },
        {
          "output_type": "stream",
          "text": [
            " 11%|█         | 83/782 [00:07<00:43, 16.12it/s]"
          ],
          "name": "stderr"
        },
        {
          "output_type": "stream",
          "text": [
            "Iter 80.0, Minibatch Loss= 1.045976, Training Accuracy= 0.43750\n"
          ],
          "name": "stdout"
        },
        {
          "output_type": "stream",
          "text": [
            " 12%|█▏        | 93/782 [00:08<00:41, 16.46it/s]"
          ],
          "name": "stderr"
        },
        {
          "output_type": "stream",
          "text": [
            "Iter 90.0, Minibatch Loss= 1.059779, Training Accuracy= 0.46875\n"
          ],
          "name": "stdout"
        },
        {
          "output_type": "stream",
          "text": [
            " 13%|█▎        | 103/782 [00:09<00:42, 16.04it/s]"
          ],
          "name": "stderr"
        },
        {
          "output_type": "stream",
          "text": [
            "Iter 100.0, Minibatch Loss= 1.062995, Training Accuracy= 0.47656\n"
          ],
          "name": "stdout"
        },
        {
          "output_type": "stream",
          "text": [
            " 14%|█▍        | 113/782 [00:09<00:40, 16.38it/s]"
          ],
          "name": "stderr"
        },
        {
          "output_type": "stream",
          "text": [
            "Iter 110.0, Minibatch Loss= 1.057587, Training Accuracy= 0.44531\n"
          ],
          "name": "stdout"
        },
        {
          "output_type": "stream",
          "text": [
            " 16%|█▌        | 123/782 [00:10<00:39, 16.60it/s]"
          ],
          "name": "stderr"
        },
        {
          "output_type": "stream",
          "text": [
            "Iter 120.0, Minibatch Loss= 1.093066, Training Accuracy= 0.38281\n"
          ],
          "name": "stdout"
        },
        {
          "output_type": "stream",
          "text": [
            " 17%|█▋        | 133/782 [00:10<00:40, 16.22it/s]"
          ],
          "name": "stderr"
        },
        {
          "output_type": "stream",
          "text": [
            "Iter 130.0, Minibatch Loss= 1.074063, Training Accuracy= 0.41406\n"
          ],
          "name": "stdout"
        },
        {
          "output_type": "stream",
          "text": [
            " 18%|█▊        | 143/782 [00:11<00:39, 16.38it/s]"
          ],
          "name": "stderr"
        },
        {
          "output_type": "stream",
          "text": [
            "Iter 140.0, Minibatch Loss= 1.076091, Training Accuracy= 0.46094\n"
          ],
          "name": "stdout"
        },
        {
          "output_type": "stream",
          "text": [
            " 20%|█▉        | 153/782 [00:12<00:38, 16.40it/s]"
          ],
          "name": "stderr"
        },
        {
          "output_type": "stream",
          "text": [
            "Iter 150.0, Minibatch Loss= 1.069584, Training Accuracy= 0.37500\n"
          ],
          "name": "stdout"
        },
        {
          "output_type": "stream",
          "text": [
            " 21%|██        | 163/782 [00:12<00:37, 16.48it/s]"
          ],
          "name": "stderr"
        },
        {
          "output_type": "stream",
          "text": [
            "Iter 160.0, Minibatch Loss= 1.081597, Training Accuracy= 0.41406\n"
          ],
          "name": "stdout"
        },
        {
          "output_type": "stream",
          "text": [
            " 22%|██▏       | 173/782 [00:13<00:37, 16.40it/s]"
          ],
          "name": "stderr"
        },
        {
          "output_type": "stream",
          "text": [
            "Iter 170.0, Minibatch Loss= 1.074992, Training Accuracy= 0.40625\n"
          ],
          "name": "stdout"
        },
        {
          "output_type": "stream",
          "text": [
            " 23%|██▎       | 183/782 [00:13<00:36, 16.28it/s]"
          ],
          "name": "stderr"
        },
        {
          "output_type": "stream",
          "text": [
            "Iter 180.0, Minibatch Loss= 1.087855, Training Accuracy= 0.35156\n"
          ],
          "name": "stdout"
        },
        {
          "output_type": "stream",
          "text": [
            " 25%|██▍       | 193/782 [00:14<00:36, 16.32it/s]"
          ],
          "name": "stderr"
        },
        {
          "output_type": "stream",
          "text": [
            "Iter 190.0, Minibatch Loss= 1.033290, Training Accuracy= 0.46094\n"
          ],
          "name": "stdout"
        },
        {
          "output_type": "stream",
          "text": [
            " 26%|██▌       | 203/782 [00:15<00:35, 16.31it/s]"
          ],
          "name": "stderr"
        },
        {
          "output_type": "stream",
          "text": [
            "Iter 200.0, Minibatch Loss= 1.065310, Training Accuracy= 0.45312\n"
          ],
          "name": "stdout"
        },
        {
          "output_type": "stream",
          "text": [
            " 27%|██▋       | 213/782 [00:15<00:34, 16.39it/s]"
          ],
          "name": "stderr"
        },
        {
          "output_type": "stream",
          "text": [
            "Iter 210.0, Minibatch Loss= 1.029575, Training Accuracy= 0.50000\n"
          ],
          "name": "stdout"
        },
        {
          "output_type": "stream",
          "text": [
            " 29%|██▊       | 223/782 [00:16<00:34, 16.23it/s]"
          ],
          "name": "stderr"
        },
        {
          "output_type": "stream",
          "text": [
            "Iter 220.0, Minibatch Loss= 1.086309, Training Accuracy= 0.38281\n"
          ],
          "name": "stdout"
        },
        {
          "output_type": "stream",
          "text": [
            " 30%|██▉       | 233/782 [00:16<00:34, 15.97it/s]"
          ],
          "name": "stderr"
        },
        {
          "output_type": "stream",
          "text": [
            "Iter 230.0, Minibatch Loss= 1.086535, Training Accuracy= 0.38281\n"
          ],
          "name": "stdout"
        },
        {
          "output_type": "stream",
          "text": [
            " 31%|███       | 243/782 [00:17<00:34, 15.83it/s]"
          ],
          "name": "stderr"
        },
        {
          "output_type": "stream",
          "text": [
            "Iter 240.0, Minibatch Loss= 1.069238, Training Accuracy= 0.42969\n"
          ],
          "name": "stdout"
        },
        {
          "output_type": "stream",
          "text": [
            " 32%|███▏      | 253/782 [00:18<00:32, 16.41it/s]"
          ],
          "name": "stderr"
        },
        {
          "output_type": "stream",
          "text": [
            "Iter 250.0, Minibatch Loss= 1.093048, Training Accuracy= 0.38281\n"
          ],
          "name": "stdout"
        },
        {
          "output_type": "stream",
          "text": [
            " 34%|███▎      | 263/782 [00:18<00:31, 16.30it/s]"
          ],
          "name": "stderr"
        },
        {
          "output_type": "stream",
          "text": [
            "Iter 260.0, Minibatch Loss= 1.101506, Training Accuracy= 0.35938\n"
          ],
          "name": "stdout"
        },
        {
          "output_type": "stream",
          "text": [
            " 35%|███▍      | 273/782 [00:19<00:30, 16.60it/s]"
          ],
          "name": "stderr"
        },
        {
          "output_type": "stream",
          "text": [
            "Iter 270.0, Minibatch Loss= 1.038988, Training Accuracy= 0.44531\n"
          ],
          "name": "stdout"
        },
        {
          "output_type": "stream",
          "text": [
            " 36%|███▌      | 283/782 [00:19<00:29, 16.64it/s]"
          ],
          "name": "stderr"
        },
        {
          "output_type": "stream",
          "text": [
            "Iter 280.0, Minibatch Loss= 1.020691, Training Accuracy= 0.47656\n"
          ],
          "name": "stdout"
        },
        {
          "output_type": "stream",
          "text": [
            " 37%|███▋      | 293/782 [00:20<00:29, 16.56it/s]"
          ],
          "name": "stderr"
        },
        {
          "output_type": "stream",
          "text": [
            "Iter 290.0, Minibatch Loss= 1.067288, Training Accuracy= 0.44531\n"
          ],
          "name": "stdout"
        },
        {
          "output_type": "stream",
          "text": [
            " 39%|███▊      | 303/782 [00:21<00:28, 16.60it/s]"
          ],
          "name": "stderr"
        },
        {
          "output_type": "stream",
          "text": [
            "Iter 300.0, Minibatch Loss= 1.046315, Training Accuracy= 0.39062\n"
          ],
          "name": "stdout"
        },
        {
          "output_type": "stream",
          "text": [
            " 40%|████      | 313/782 [00:21<00:28, 16.48it/s]"
          ],
          "name": "stderr"
        },
        {
          "output_type": "stream",
          "text": [
            "Iter 310.0, Minibatch Loss= 1.043247, Training Accuracy= 0.44531\n"
          ],
          "name": "stdout"
        },
        {
          "output_type": "stream",
          "text": [
            " 41%|████▏     | 323/782 [00:22<00:27, 16.63it/s]"
          ],
          "name": "stderr"
        },
        {
          "output_type": "stream",
          "text": [
            "Iter 320.0, Minibatch Loss= 1.051983, Training Accuracy= 0.44531\n"
          ],
          "name": "stdout"
        },
        {
          "output_type": "stream",
          "text": [
            " 43%|████▎     | 333/782 [00:22<00:27, 16.14it/s]"
          ],
          "name": "stderr"
        },
        {
          "output_type": "stream",
          "text": [
            "Iter 330.0, Minibatch Loss= 1.046402, Training Accuracy= 0.46094\n"
          ],
          "name": "stdout"
        },
        {
          "output_type": "stream",
          "text": [
            " 44%|████▍     | 343/782 [00:23<00:26, 16.40it/s]"
          ],
          "name": "stderr"
        },
        {
          "output_type": "stream",
          "text": [
            "Iter 340.0, Minibatch Loss= 1.065973, Training Accuracy= 0.42188\n"
          ],
          "name": "stdout"
        },
        {
          "output_type": "stream",
          "text": [
            " 45%|████▌     | 353/782 [00:24<00:26, 16.46it/s]"
          ],
          "name": "stderr"
        },
        {
          "output_type": "stream",
          "text": [
            "Iter 350.0, Minibatch Loss= 1.018382, Training Accuracy= 0.48438\n"
          ],
          "name": "stdout"
        },
        {
          "output_type": "stream",
          "text": [
            " 46%|████▋     | 363/782 [00:24<00:25, 16.43it/s]"
          ],
          "name": "stderr"
        },
        {
          "output_type": "stream",
          "text": [
            "Iter 360.0, Minibatch Loss= 1.078800, Training Accuracy= 0.38281\n"
          ],
          "name": "stdout"
        },
        {
          "output_type": "stream",
          "text": [
            " 48%|████▊     | 373/782 [00:25<00:25, 16.32it/s]"
          ],
          "name": "stderr"
        },
        {
          "output_type": "stream",
          "text": [
            "Iter 370.0, Minibatch Loss= 1.060813, Training Accuracy= 0.37500\n"
          ],
          "name": "stdout"
        },
        {
          "output_type": "stream",
          "text": [
            " 49%|████▉     | 383/782 [00:25<00:24, 16.41it/s]"
          ],
          "name": "stderr"
        },
        {
          "output_type": "stream",
          "text": [
            "Iter 380.0, Minibatch Loss= 1.015079, Training Accuracy= 0.47656\n"
          ],
          "name": "stdout"
        },
        {
          "output_type": "stream",
          "text": [
            " 50%|█████     | 393/782 [00:26<00:23, 16.60it/s]"
          ],
          "name": "stderr"
        },
        {
          "output_type": "stream",
          "text": [
            "Iter 390.0, Minibatch Loss= 1.027639, Training Accuracy= 0.44531\n"
          ],
          "name": "stdout"
        },
        {
          "output_type": "stream",
          "text": [
            " 52%|█████▏    | 403/782 [00:27<00:23, 16.43it/s]"
          ],
          "name": "stderr"
        },
        {
          "output_type": "stream",
          "text": [
            "Iter 400.0, Minibatch Loss= 0.964136, Training Accuracy= 0.54688\n"
          ],
          "name": "stdout"
        },
        {
          "output_type": "stream",
          "text": [
            " 53%|█████▎    | 413/782 [00:27<00:23, 15.90it/s]"
          ],
          "name": "stderr"
        },
        {
          "output_type": "stream",
          "text": [
            "Iter 410.0, Minibatch Loss= 1.017640, Training Accuracy= 0.47656\n"
          ],
          "name": "stdout"
        },
        {
          "output_type": "stream",
          "text": [
            " 54%|█████▍    | 423/782 [00:28<00:21, 16.49it/s]"
          ],
          "name": "stderr"
        },
        {
          "output_type": "stream",
          "text": [
            "Iter 420.0, Minibatch Loss= 1.048763, Training Accuracy= 0.47656\n"
          ],
          "name": "stdout"
        },
        {
          "output_type": "stream",
          "text": [
            " 55%|█████▌    | 433/782 [00:28<00:21, 16.46it/s]"
          ],
          "name": "stderr"
        },
        {
          "output_type": "stream",
          "text": [
            "Iter 430.0, Minibatch Loss= 1.059130, Training Accuracy= 0.45312\n"
          ],
          "name": "stdout"
        },
        {
          "output_type": "stream",
          "text": [
            " 57%|█████▋    | 443/782 [00:29<00:20, 16.68it/s]"
          ],
          "name": "stderr"
        },
        {
          "output_type": "stream",
          "text": [
            "Iter 440.0, Minibatch Loss= 1.034734, Training Accuracy= 0.45312\n"
          ],
          "name": "stdout"
        },
        {
          "output_type": "stream",
          "text": [
            " 58%|█████▊    | 453/782 [00:30<00:19, 16.68it/s]"
          ],
          "name": "stderr"
        },
        {
          "output_type": "stream",
          "text": [
            "Iter 450.0, Minibatch Loss= 1.030533, Training Accuracy= 0.53125\n"
          ],
          "name": "stdout"
        },
        {
          "output_type": "stream",
          "text": [
            " 59%|█████▉    | 463/782 [00:30<00:19, 16.62it/s]"
          ],
          "name": "stderr"
        },
        {
          "output_type": "stream",
          "text": [
            "Iter 460.0, Minibatch Loss= 1.053275, Training Accuracy= 0.41406\n"
          ],
          "name": "stdout"
        },
        {
          "output_type": "stream",
          "text": [
            " 60%|██████    | 473/782 [00:31<00:18, 16.56it/s]"
          ],
          "name": "stderr"
        },
        {
          "output_type": "stream",
          "text": [
            "Iter 470.0, Minibatch Loss= 1.061758, Training Accuracy= 0.37500\n"
          ],
          "name": "stdout"
        },
        {
          "output_type": "stream",
          "text": [
            " 62%|██████▏   | 483/782 [00:31<00:18, 16.17it/s]"
          ],
          "name": "stderr"
        },
        {
          "output_type": "stream",
          "text": [
            "Iter 480.0, Minibatch Loss= 1.063056, Training Accuracy= 0.42969\n"
          ],
          "name": "stdout"
        },
        {
          "output_type": "stream",
          "text": [
            " 63%|██████▎   | 493/782 [00:32<00:17, 16.51it/s]"
          ],
          "name": "stderr"
        },
        {
          "output_type": "stream",
          "text": [
            "Iter 490.0, Minibatch Loss= 1.061260, Training Accuracy= 0.41406\n"
          ],
          "name": "stdout"
        },
        {
          "output_type": "stream",
          "text": [
            " 64%|██████▍   | 503/782 [00:33<00:17, 16.23it/s]"
          ],
          "name": "stderr"
        },
        {
          "output_type": "stream",
          "text": [
            "Iter 500.0, Minibatch Loss= 1.012679, Training Accuracy= 0.47656\n"
          ],
          "name": "stdout"
        },
        {
          "output_type": "stream",
          "text": [
            " 66%|██████▌   | 513/782 [00:33<00:17, 15.55it/s]"
          ],
          "name": "stderr"
        },
        {
          "output_type": "stream",
          "text": [
            "Iter 510.0, Minibatch Loss= 1.045418, Training Accuracy= 0.43750\n"
          ],
          "name": "stdout"
        },
        {
          "output_type": "stream",
          "text": [
            " 67%|██████▋   | 523/782 [00:34<00:15, 16.27it/s]"
          ],
          "name": "stderr"
        },
        {
          "output_type": "stream",
          "text": [
            "Iter 520.0, Minibatch Loss= 1.070409, Training Accuracy= 0.51562\n"
          ],
          "name": "stdout"
        },
        {
          "output_type": "stream",
          "text": [
            " 68%|██████▊   | 533/782 [00:34<00:15, 16.57it/s]"
          ],
          "name": "stderr"
        },
        {
          "output_type": "stream",
          "text": [
            "Iter 530.0, Minibatch Loss= 1.012543, Training Accuracy= 0.46094\n"
          ],
          "name": "stdout"
        },
        {
          "output_type": "stream",
          "text": [
            " 69%|██████▉   | 543/782 [00:35<00:14, 16.71it/s]"
          ],
          "name": "stderr"
        },
        {
          "output_type": "stream",
          "text": [
            "Iter 540.0, Minibatch Loss= 0.999442, Training Accuracy= 0.46875\n"
          ],
          "name": "stdout"
        },
        {
          "output_type": "stream",
          "text": [
            " 71%|███████   | 553/782 [00:36<00:13, 16.55it/s]"
          ],
          "name": "stderr"
        },
        {
          "output_type": "stream",
          "text": [
            "Iter 550.0, Minibatch Loss= 1.046087, Training Accuracy= 0.46094\n"
          ],
          "name": "stdout"
        },
        {
          "output_type": "stream",
          "text": [
            " 72%|███████▏  | 563/782 [00:36<00:13, 16.03it/s]"
          ],
          "name": "stderr"
        },
        {
          "output_type": "stream",
          "text": [
            "Iter 560.0, Minibatch Loss= 1.036414, Training Accuracy= 0.51562\n"
          ],
          "name": "stdout"
        },
        {
          "output_type": "stream",
          "text": [
            " 73%|███████▎  | 573/782 [00:37<00:12, 16.16it/s]"
          ],
          "name": "stderr"
        },
        {
          "output_type": "stream",
          "text": [
            "Iter 570.0, Minibatch Loss= 1.008485, Training Accuracy= 0.52344\n"
          ],
          "name": "stdout"
        },
        {
          "output_type": "stream",
          "text": [
            " 75%|███████▍  | 583/782 [00:37<00:12, 16.04it/s]"
          ],
          "name": "stderr"
        },
        {
          "output_type": "stream",
          "text": [
            "Iter 580.0, Minibatch Loss= 1.041790, Training Accuracy= 0.41406\n"
          ],
          "name": "stdout"
        },
        {
          "output_type": "stream",
          "text": [
            " 76%|███████▌  | 593/782 [00:38<00:11, 16.43it/s]"
          ],
          "name": "stderr"
        },
        {
          "output_type": "stream",
          "text": [
            "Iter 590.0, Minibatch Loss= 1.043074, Training Accuracy= 0.46094\n"
          ],
          "name": "stdout"
        },
        {
          "output_type": "stream",
          "text": [
            " 77%|███████▋  | 603/782 [00:39<00:11, 16.26it/s]"
          ],
          "name": "stderr"
        },
        {
          "output_type": "stream",
          "text": [
            "Iter 600.0, Minibatch Loss= 1.020310, Training Accuracy= 0.52344\n"
          ],
          "name": "stdout"
        },
        {
          "output_type": "stream",
          "text": [
            " 78%|███████▊  | 613/782 [00:39<00:10, 16.53it/s]"
          ],
          "name": "stderr"
        },
        {
          "output_type": "stream",
          "text": [
            "Iter 610.0, Minibatch Loss= 1.034269, Training Accuracy= 0.50000\n"
          ],
          "name": "stdout"
        },
        {
          "output_type": "stream",
          "text": [
            " 80%|███████▉  | 623/782 [00:40<00:09, 16.54it/s]"
          ],
          "name": "stderr"
        },
        {
          "output_type": "stream",
          "text": [
            "Iter 620.0, Minibatch Loss= 1.042195, Training Accuracy= 0.46094\n"
          ],
          "name": "stdout"
        },
        {
          "output_type": "stream",
          "text": [
            " 81%|████████  | 633/782 [00:40<00:09, 16.15it/s]"
          ],
          "name": "stderr"
        },
        {
          "output_type": "stream",
          "text": [
            "Iter 630.0, Minibatch Loss= 1.039908, Training Accuracy= 0.48438\n"
          ],
          "name": "stdout"
        },
        {
          "output_type": "stream",
          "text": [
            " 82%|████████▏ | 643/782 [00:41<00:08, 16.29it/s]"
          ],
          "name": "stderr"
        },
        {
          "output_type": "stream",
          "text": [
            "Iter 640.0, Minibatch Loss= 1.046099, Training Accuracy= 0.39844\n"
          ],
          "name": "stdout"
        },
        {
          "output_type": "stream",
          "text": [
            " 84%|████████▎ | 653/782 [00:42<00:07, 16.36it/s]"
          ],
          "name": "stderr"
        },
        {
          "output_type": "stream",
          "text": [
            "Iter 650.0, Minibatch Loss= 1.025730, Training Accuracy= 0.46875\n"
          ],
          "name": "stdout"
        },
        {
          "output_type": "stream",
          "text": [
            " 85%|████████▍ | 663/782 [00:42<00:07, 16.40it/s]"
          ],
          "name": "stderr"
        },
        {
          "output_type": "stream",
          "text": [
            "Iter 660.0, Minibatch Loss= 0.990089, Training Accuracy= 0.49219\n"
          ],
          "name": "stdout"
        },
        {
          "output_type": "stream",
          "text": [
            " 86%|████████▌ | 673/782 [00:43<00:06, 16.27it/s]"
          ],
          "name": "stderr"
        },
        {
          "output_type": "stream",
          "text": [
            "Iter 670.0, Minibatch Loss= 0.959233, Training Accuracy= 0.53906\n"
          ],
          "name": "stdout"
        },
        {
          "output_type": "stream",
          "text": [
            " 87%|████████▋ | 683/782 [00:43<00:06, 16.32it/s]"
          ],
          "name": "stderr"
        },
        {
          "output_type": "stream",
          "text": [
            "Iter 680.0, Minibatch Loss= 0.994353, Training Accuracy= 0.46094\n"
          ],
          "name": "stdout"
        },
        {
          "output_type": "stream",
          "text": [
            " 89%|████████▊ | 693/782 [00:44<00:05, 16.26it/s]"
          ],
          "name": "stderr"
        },
        {
          "output_type": "stream",
          "text": [
            "Iter 690.0, Minibatch Loss= 1.005555, Training Accuracy= 0.49219\n"
          ],
          "name": "stdout"
        },
        {
          "output_type": "stream",
          "text": [
            " 90%|████████▉ | 703/782 [00:45<00:04, 16.10it/s]"
          ],
          "name": "stderr"
        },
        {
          "output_type": "stream",
          "text": [
            "Iter 700.0, Minibatch Loss= 1.039468, Training Accuracy= 0.43750\n"
          ],
          "name": "stdout"
        },
        {
          "output_type": "stream",
          "text": [
            " 91%|█████████ | 713/782 [00:45<00:04, 16.15it/s]"
          ],
          "name": "stderr"
        },
        {
          "output_type": "stream",
          "text": [
            "Iter 710.0, Minibatch Loss= 0.979108, Training Accuracy= 0.55469\n"
          ],
          "name": "stdout"
        },
        {
          "output_type": "stream",
          "text": [
            " 92%|█████████▏| 723/782 [00:46<00:03, 16.37it/s]"
          ],
          "name": "stderr"
        },
        {
          "output_type": "stream",
          "text": [
            "Iter 720.0, Minibatch Loss= 1.018807, Training Accuracy= 0.47656\n"
          ],
          "name": "stdout"
        },
        {
          "output_type": "stream",
          "text": [
            " 94%|█████████▎| 733/782 [00:46<00:03, 16.02it/s]"
          ],
          "name": "stderr"
        },
        {
          "output_type": "stream",
          "text": [
            "Iter 730.0, Minibatch Loss= 1.011676, Training Accuracy= 0.51562\n"
          ],
          "name": "stdout"
        },
        {
          "output_type": "stream",
          "text": [
            " 95%|█████████▌| 743/782 [00:47<00:02, 16.30it/s]"
          ],
          "name": "stderr"
        },
        {
          "output_type": "stream",
          "text": [
            "Iter 740.0, Minibatch Loss= 1.023548, Training Accuracy= 0.50781\n"
          ],
          "name": "stdout"
        },
        {
          "output_type": "stream",
          "text": [
            " 96%|█████████▋| 753/782 [00:48<00:01, 16.10it/s]"
          ],
          "name": "stderr"
        },
        {
          "output_type": "stream",
          "text": [
            "Iter 750.0, Minibatch Loss= 1.013515, Training Accuracy= 0.46875\n"
          ],
          "name": "stdout"
        },
        {
          "output_type": "stream",
          "text": [
            " 98%|█████████▊| 763/782 [00:48<00:01, 15.85it/s]"
          ],
          "name": "stderr"
        },
        {
          "output_type": "stream",
          "text": [
            "Iter 760.0, Minibatch Loss= 0.958276, Training Accuracy= 0.56250\n"
          ],
          "name": "stdout"
        },
        {
          "output_type": "stream",
          "text": [
            " 99%|█████████▉| 773/782 [00:49<00:00, 16.31it/s]"
          ],
          "name": "stderr"
        },
        {
          "output_type": "stream",
          "text": [
            "Iter 770.0, Minibatch Loss= 1.047747, Training Accuracy= 0.47656\n"
          ],
          "name": "stdout"
        },
        {
          "output_type": "stream",
          "text": [
            "100%|██████████| 782/782 [00:49<00:00, 15.67it/s]"
          ],
          "name": "stderr"
        },
        {
          "output_type": "stream",
          "text": [
            "Iter 780.0, Minibatch Loss= 1.004328, Training Accuracy= 0.44531\n"
          ],
          "name": "stdout"
        },
        {
          "output_type": "stream",
          "text": [
            "\n"
          ],
          "name": "stderr"
        }
      ]
    },
    {
      "cell_type": "code",
      "metadata": {
        "id": "CbQ7as2D299f",
        "colab_type": "code",
        "outputId": "46d2bf12-ca57-4749-eec6-9ed7a51b63c7",
        "colab": {
          "base_uri": "https://localhost:8080/",
          "height": 71
        }
      },
      "source": [
        "evidences = [\"He likes to play cricket\"]\n",
        "\n",
        "hypotheses = [\"He not likes to play cricket\"]\n",
        "\n",
        "sentence1 = [fit_to_size(np.vstack(sentence2sequence(evidence)[0]),\n",
        "                         (30, 50)) for evidence in evidences]\n",
        "\n",
        "sentence2 = [fit_to_size(np.vstack(sentence2sequence(hypothesis)[0]),\n",
        "                         (30,50)) for hypothesis in hypotheses]\n",
        "\n",
        "prediction = sess.run(classification_scores, feed_dict={hyp: (sentence1 * N),\n",
        "                                                        evi: (sentence2 * N),\n",
        "                                                        y: [[0,0,0]]*N})\n",
        "print([\"Positive\", \"Neutral\", \"Negative\"][np.argmax(prediction[0])]+\n",
        "      \" entailment\")"
      ],
      "execution_count": 40,
      "outputs": [
        {
          "output_type": "stream",
          "text": [
            "Negative entailment\n"
          ],
          "name": "stdout"
        },
        {
          "output_type": "stream",
          "text": [
            "/usr/local/lib/python3.6/dist-packages/ipykernel_launcher.py:31: FutureWarning: Using a non-tuple sequence for multidimensional indexing is deprecated; use `arr[tuple(seq)]` instead of `arr[seq]`. In the future this will be interpreted as an array index, `arr[np.array(seq)]`, which will result either in an error or a different result.\n"
          ],
          "name": "stderr"
        }
      ]
    },
    {
      "cell_type": "code",
      "metadata": {
        "id": "xF5JJbba53dK",
        "colab_type": "code",
        "colab": {}
      },
      "source": [
        ""
      ],
      "execution_count": 0,
      "outputs": []
    }
  ]
}